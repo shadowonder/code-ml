{
 "cells": [
  {
   "attachments": {},
   "cell_type": "markdown",
   "metadata": {},
   "source": [
    "# RNN\n",
    "\n",
    "原理就是在每一层创建一个新的节点用来保留当前这段文字的状态. 然后计算下一个单词的时候使用这个新的节点和x一起计算. 详情略\n",
    "\n",
    "创建一个简单的Embedding\n"
   ]
  },
  {
   "cell_type": "code",
   "execution_count": 1,
   "metadata": {},
   "outputs": [
    {
     "name": "stdout",
     "output_type": "stream",
     "text": [
      "tensor([[-0.2506, -1.5040,  0.2194,  0.6614, -1.3048]],\n",
      "       grad_fn=<EmbeddingBackward0>)\n"
     ]
    }
   ],
   "source": [
    "import torch\n",
    "from torch import nn\n",
    "\n",
    "word_2_idx = {\"hello\": 0, \"world\": 1}  # 创建一个索引\n",
    "\n",
    "lookup_tensor = torch.tensor([word_2_idx[\"hello\"]], dtype=torch.long)\n",
    "\n",
    "# 使用pytorch初始化一个embedding, 2个单词5个维度的embedding. 注意, 这个初始化使用的就是随机生成的\n",
    "embeds = nn.Embedding(2, 5)\n",
    "hello_embed = embeds(lookup_tensor)  # 查看一个\"hello\"这个词的feature向量.\n",
    "print(hello_embed)\n"
   ]
  },
  {
   "attachments": {},
   "cell_type": "markdown",
   "metadata": {},
   "source": [
    "直接使用Glove查看. 这里使用的glove需要下载一个新的包. \n",
    "\n",
    "```shell\n",
    "pip install pytorch-nlp\n",
    "```\n",
    "\n",
    "如果直接使用的会下载一个2Gb组有的包, 这个包里面已经初始化好了一个100维feature的向量."
   ]
  },
  {
   "cell_type": "code",
   "execution_count": 2,
   "metadata": {},
   "outputs": [
    {
     "data": {
      "text/plain": [
       "tensor([ 0.2523,  0.1018, -0.6748,  0.2112,  0.4349,  0.1654,  0.4826, -0.8122,\n",
       "         0.0413,  0.7850, -0.0779, -0.6632,  0.1464, -0.2929, -0.2549,  0.0193,\n",
       "        -0.2026,  0.9823,  0.0283, -0.0813, -0.1214,  0.1313, -0.1765,  0.1356,\n",
       "        -0.1636, -0.2257,  0.0550, -0.2031,  0.2072,  0.0958,  0.2248,  0.2154,\n",
       "        -0.3298, -0.1224, -0.4003, -0.0794, -0.1996, -0.0151, -0.0791, -0.1813,\n",
       "         0.2068, -0.3620, -0.3074, -0.2442, -0.2311,  0.0980,  0.1463, -0.0627,\n",
       "         0.4293, -0.0780, -0.1963,  0.6509, -0.2281, -0.3031, -0.1248, -0.1757,\n",
       "        -0.1465,  0.1536, -0.2952,  0.1510, -0.5173, -0.0336, -0.2311, -0.7833,\n",
       "         0.0180, -0.1572,  0.0229,  0.4964,  0.0292,  0.0567,  0.1462, -0.1919,\n",
       "         0.1624,  0.2390,  0.3643,  0.4526,  0.2456,  0.2380,  0.3140,  0.3487,\n",
       "        -0.0358,  0.5611, -0.2535,  0.0520, -0.1062, -0.3096,  1.0585, -0.4202,\n",
       "         0.1822, -0.1126,  0.4058,  0.1178, -0.1971, -0.0753,  0.0807, -0.0278,\n",
       "        -0.1562, -0.4468, -0.1516,  0.1692,  0.0983, -0.0319,  0.0871,  0.2608,\n",
       "         0.0027,  0.1319,  0.3444, -0.3789, -0.4114,  0.0816, -0.1167, -0.4371,\n",
       "         0.0111,  0.0994,  0.2661,  0.4002,  0.1890, -0.1844, -0.3036, -0.2725,\n",
       "         0.2247, -0.4061,  0.1562, -0.1604,  0.4715,  0.0080,  0.5686,  0.2193,\n",
       "        -0.1118,  0.7993,  0.1071, -0.5015,  0.0636,  0.0695,  0.1529, -0.2747,\n",
       "        -0.2099,  0.2074, -0.1068,  0.4065, -2.6438, -0.3114, -0.3216, -0.2646,\n",
       "        -0.3562,  0.0700, -0.1884,  0.4877, -0.2617, -0.0208,  0.1782,  0.1576,\n",
       "        -0.1375,  0.0565,  0.3077, -0.0661,  0.4748, -0.2734,  0.0973, -0.2083,\n",
       "         0.0039,  0.3460, -0.0870, -0.5492, -0.1876, -0.1717,  0.0603, -0.1352,\n",
       "         0.1042,  0.3016,  0.0580,  0.2187, -0.0736, -0.2042, -0.2528, -0.1047,\n",
       "        -0.3216,  0.1252, -0.3128,  0.0097, -0.2678, -0.6112, -0.1109, -0.1365,\n",
       "         0.0351, -0.4939,  0.0849, -0.1549, -0.0635, -0.2394,  0.2827,  0.1085,\n",
       "        -0.3365, -0.6076,  0.3858, -0.0095,  0.1750, -0.5272,  0.6221,  0.1954,\n",
       "        -0.4898,  0.0366, -0.1280, -0.0168,  0.2565, -0.3170,  0.4826, -0.1418,\n",
       "         0.1105, -0.3098, -0.6314, -0.3727,  0.2318, -0.1427, -0.0234,  0.0223,\n",
       "        -0.0447, -0.1640, -0.2585,  0.1629,  0.0248,  0.2335,  0.2793,  0.3900,\n",
       "        -0.0590,  0.1135,  0.1567,  0.1858, -0.1981, -0.4812, -0.0351,  0.0785,\n",
       "        -0.4983,  0.1085, -0.2013,  0.0529, -0.1158, -0.1601,  0.1677,  0.4236,\n",
       "        -0.2311,  0.0825,  0.2430, -0.1679,  0.0080,  0.0859,  0.3803,  0.0730,\n",
       "         0.1633,  0.2470, -0.1109,  0.1512, -0.2207, -0.0619, -0.0371, -0.0879,\n",
       "        -0.2318,  0.1504, -0.1909, -0.1911, -0.1189,  0.0949, -0.0043,  0.1536,\n",
       "        -0.4120, -0.3073,  0.1838,  0.4021, -0.0035, -0.1092, -0.6952,  0.1016,\n",
       "        -0.0793,  0.4033,  0.2228, -0.1937, -0.1331,  0.0732,  0.0998,  0.1169,\n",
       "        -0.2164, -0.1108,  0.1034,  0.0973,  0.1120, -0.3894, -0.0089,  0.2881,\n",
       "        -0.1079,  0.0288,  0.3255,  0.2605, -0.0389,  0.0752,  0.4603, -0.0629,\n",
       "         0.2166,  0.1787, -0.5192,  0.3359])"
      ]
     },
     "execution_count": 2,
     "metadata": {},
     "output_type": "execute_result"
    }
   ],
   "source": [
    "from torchnlp.word_to_vector import GloVe\n",
    "\n",
    "vectors = GloVe()\n",
    "vectors[\"hello\"]\n"
   ]
  },
  {
   "attachments": {},
   "cell_type": "markdown",
   "metadata": {},
   "source": [
    "## Layer\n",
    "\n",
    "$$[Batch, features] @ [Hiddens, features]^T + [Batch, Hiddens] @ [Hiddens , Hiddens]^T$$\n",
    "\n",
    "比如我们创建一个神经网络进行训练, 一个batch进来的时候是3个单词, 然后我们对这个神经网络定义的每一个单词的向量数为100, 每一层进行计算使用的hidden临时weight的数量为20. 这里$[3,20]$是上一次计算得到的结果. 那么以此计算得到的公式就是\n",
    "\n",
    "$$[30,100]@[20,100]^T+[3,20]@[20,20]^T=[3,20]$$\n",
    "\n",
    "这里简单看一下rnn的一层的架构"
   ]
  },
  {
   "cell_type": "code",
   "execution_count": 3,
   "metadata": {},
   "outputs": [
    {
     "name": "stdout",
     "output_type": "stream",
     "text": [
      "odict_keys(['weight_ih_l0', 'weight_hh_l0', 'bias_ih_l0', 'bias_hh_l0'])\n",
      "torch.Size([10, 10]) torch.Size([10, 100]) torch.Size([10]) torch.Size([10])\n"
     ]
    }
   ],
   "source": [
    "# 建立一个100维的词向量, 然后使用10个hidden或者称为临时节点.\n",
    "rnn = nn.RNN(100, 10)\n",
    "print(rnn._parameters.keys())\n",
    "\n",
    "print(\n",
    "    rnn.weight_hh_l0.shape,  # hidden,hidden 的矩阵大小\n",
    "    rnn.weight_ih_l0.shape,  # input, hidden 的矩阵大小 10,100 这里需要转置\n",
    "    rnn.bias_hh_l0.shape,\n",
    "    rnn.bias_ih_l0.shape,\n",
    ")\n"
   ]
  },
  {
   "attachments": {},
   "cell_type": "markdown",
   "metadata": {},
   "source": [
    "初始化使用到的参数:\n",
    "\n",
    "- input_size 输入维度, 单词的维度\n",
    "- hidden_size memory或者叫hidden的属性\n",
    "- num_layer 默认为1, 如果使用的话就可以使用多层神经网络.\n",
    "\n",
    "forward(x,$h_0$) 给定当前的x, 注意这里是x不是x的转置. $h_0$表示的就是[layer,b,10] \n",
    "\n",
    "输出就是$h_t$,也就是最后一刻输出的结果[layer,b,10], 如果一层的话就是简单的[1,b,10], 也就是简单的$h$\n",
    "\n",
    "整体的输出会输出全部的单词输出量, 也就是从$h_0$到$h_t$的最终权重输出, 比如我们有5个单词, 输出就是[5,b,10]"
   ]
  },
  {
   "cell_type": "code",
   "execution_count": 4,
   "metadata": {},
   "outputs": [
    {
     "name": "stdout",
     "output_type": "stream",
     "text": [
      "RNN(100, 20)\n",
      "torch.Size([10, 3, 20]) torch.Size([1, 3, 20])\n"
     ]
    }
   ],
   "source": [
    "# 定义一个100维的循环神经网络, memory为20维度, 单层\n",
    "rnn = nn.RNN(input_size=100, hidden_size=20, num_layers=1)\n",
    "print(rnn)\n",
    "\n",
    "# 我们这里模拟一个输入, 10个单词, 3个句子, 每个单词100维向量\n",
    "# 需要注意的是, 我们定义的是一个时间序列输入, 因此最外层需要是词的数量, 想象一下三维空间, 最外层的轴需要是词, 这样才能一个一个词进行训练.\n",
    "x = torch.rand(10, 3, 100)\n",
    "out, h = rnn(x, torch.zeros(1, 3, 20))\n",
    "print(out.shape, h.shape)  # h就是最后一个输出, out就是所有单词,每一次训练的输出\n"
   ]
  },
  {
   "cell_type": "code",
   "execution_count": 5,
   "metadata": {},
   "outputs": [
    {
     "name": "stdout",
     "output_type": "stream",
     "text": [
      "odict_keys(['weight_ih_l0', 'weight_hh_l0', 'bias_ih_l0', 'bias_hh_l0', 'weight_ih_l1', 'weight_hh_l1', 'bias_ih_l1', 'bias_hh_l1'])\n",
      "torch.Size([10, 10]) torch.Size([10, 100])\n",
      "torch.Size([10, 10]) torch.Size([10, 10])\n"
     ]
    }
   ],
   "source": [
    "rnn = nn.RNN(100, 10, num_layers=2)\n",
    "print(rnn._parameters.keys())\n",
    "\n",
    "print(rnn.weight_hh_l0.shape, rnn.weight_ih_l0.shape)\n",
    "print(rnn.weight_hh_l1.shape, rnn.weight_ih_l1.shape)  # 这里的内部状态不需要转换, 输入就是第一层的内部状态.\n"
   ]
  },
  {
   "cell_type": "code",
   "execution_count": 6,
   "metadata": {},
   "outputs": [
    {
     "name": "stdout",
     "output_type": "stream",
     "text": [
      "RNN(100, 10, num_layers=4)\n",
      "torch.Size([10, 3, 10]) torch.Size([4, 3, 10])\n"
     ]
    }
   ],
   "source": [
    "rnn = nn.RNN(100, 10, num_layers=4)\n",
    "print(rnn)\n",
    "\n",
    "x = torch.randn(10, 3, 100)\n",
    "out, h = rnn(x)\n",
    "print(out.shape, h.shape) # h0是4层\n"
   ]
  },
  {
   "attachments": {},
   "cell_type": "markdown",
   "metadata": {},
   "source": [
    "RNNCell: 更加灵活的输入. 只会单纯的输入和输出进行. 具有和RNN类相同的输入和输出. \n",
    "\n",
    "- input_size 输入维度, 单词的维度\n",
    "- hidden_size memory或者叫hidden的属性\n",
    "- num_layer 默认为1, 如果使用的话就可以使用多层神经网络.\n",
    "\n",
    "但是在forward参数就不同了, RNNCell使用的是`rnncell(xt,h)`. \n",
    "\n",
    "比如此处我们输入3个句子, 每一个句子的第一个单词, 这个单词有100维的向量, 因此输入的X就是$[3,100]$. 第二个参数就是memory, 比如我们有4层, 然后使用10个隐藏节点进行计算. 那么我们的h就是$[4,3,10]$. 最终的输出就是所有h的状态的集合, 注意我们并不知道有多少个h,所以大小可能是动态的. \n",
    "\n",
    "> 这种方法更像是神经网络的训练模式, 一个一个词进行feed in这样就得到了一个比较合适的输入方法. RNN默认情况下需要指定长度, 因此很可能出现截取或者填充等问题. 尽管这种方法比较底层, 但是却是比较常用的方法"
   ]
  },
  {
   "cell_type": "code",
   "execution_count": 7,
   "metadata": {},
   "outputs": [
    {
     "name": "stdout",
     "output_type": "stream",
     "text": [
      "x: torch.Size([10, 3, 100])\n",
      "torch.Size([3, 20])\n"
     ]
    }
   ],
   "source": [
    "print(\"x:\", x.shape)\n",
    "cell1 = nn.RNNCell(100, 20)  # 创建一个cell时间序列\n",
    "h1 = torch.zeros(3, 20)  # 创建一个当前memory的容器\n",
    "\n",
    "for xt in x:\n",
    "    h1 = cell1(xt, h1)  # 进行一次计算求导, 我们得到了当前序列节点新的memory\n",
    "\n",
    "print(h1.shape)\n"
   ]
  },
  {
   "cell_type": "code",
   "execution_count": 13,
   "metadata": {},
   "outputs": [
    {
     "name": "stdout",
     "output_type": "stream",
     "text": [
      "x: torch.Size([10, 3, 100])\n",
      "torch.Size([3, 20])\n"
     ]
    }
   ],
   "source": [
    "print(\"x:\", x.shape)\n",
    "\n",
    "# 我们创建一个多序列节点的结构\n",
    "cell1 = nn.RNNCell(100, 30)\n",
    "cell2 = nn.RNNCell(30, 20)  # 这里的输入是第一层的输出\n",
    "h1 = torch.zeros(3, 30)\n",
    "h2 = torch.zeros(3, 20)\n",
    "for xt in x:\n",
    "    h1 = cell1(xt, h1)\n",
    "    h2 = cell2(h1, h2)  # 第二个cell需要输入第一个cell的h\n",
    "\n",
    "print(h2.shape)\n"
   ]
  },
  {
   "attachments": {},
   "cell_type": "markdown",
   "metadata": {},
   "source": [
    "## 波形案例\n",
    "\n",
    "我们可以使用numpy来定义正弦波形, 这里我们有50个点, 然后用50个点预测后面的状态. 因此, 我们的输入就是[50,b,1]. "
   ]
  },
  {
   "cell_type": "code",
   "execution_count": 14,
   "metadata": {},
   "outputs": [
    {
     "name": "stdout",
     "output_type": "stream",
     "text": [
      "time_steps: [ 1.          1.20408163  1.40816327  1.6122449   1.81632653  2.02040816\n",
      "  2.2244898   2.42857143  2.63265306  2.83673469  3.04081633  3.24489796\n",
      "  3.44897959  3.65306122  3.85714286  4.06122449  4.26530612  4.46938776\n",
      "  4.67346939  4.87755102  5.08163265  5.28571429  5.48979592  5.69387755\n",
      "  5.89795918  6.10204082  6.30612245  6.51020408  6.71428571  6.91836735\n",
      "  7.12244898  7.32653061  7.53061224  7.73469388  7.93877551  8.14285714\n",
      "  8.34693878  8.55102041  8.75510204  8.95918367  9.16326531  9.36734694\n",
      "  9.57142857  9.7755102   9.97959184 10.18367347 10.3877551  10.59183673\n",
      " 10.79591837 11.        ]\n"
     ]
    }
   ],
   "source": [
    "import numpy as np\n",
    "\n",
    "num_time_steps = 50\n",
    "\n",
    "# 初始相位,我们是随机进行采样. 我们随机的初始化位置, 也就是初始化图像\n",
    "start = np.random.randint(3, size=1)[0]\n",
    "# 进行training数据进行生成\n",
    "time_steps = np.linspace(start, start + 10, num_time_steps)\n",
    "print(\"time_steps:\", time_steps)\n",
    "# 根据这50个点, 生成50个sin的结果\n",
    "data = np.sin(time_steps)\n",
    "data = data.reshape(num_time_steps, 1)\n",
    "# 在这里, 我们输入就是0-48个点, 然后输出需要得到1-49点成为结果, 也就是比原来多1个点\n",
    "x = torch.tensor(data[:-1]).float().view(1, num_time_steps - 1, 1)\n",
    "y = torch.tensor(data[1:]).float().view(1, num_time_steps - 1, 1)\n"
   ]
  },
  {
   "cell_type": "code",
   "execution_count": 15,
   "metadata": {},
   "outputs": [],
   "source": [
    "input_size = 1\n",
    "hidden_size = 16\n",
    "output_size = 1\n",
    "lr = 0.01\n",
    "\n",
    "\n",
    "class Net(nn.Module):\n",
    "    def __init__(\n",
    "        self,\n",
    "    ):\n",
    "        super(Net, self).__init__()\n",
    "\n",
    "        self.rnn = nn.RNN(\n",
    "            input_size=input_size,\n",
    "            hidden_size=hidden_size,\n",
    "            num_layers=1,\n",
    "            batch_first=True,  # 这里我们定义了batch为第一个维度 [b,seq,h], 这样更好使用\n",
    "        )\n",
    "        self.linear = nn.Linear(hidden_size, output_size)  # 最终添加一个全连接层, output size 就是1\n",
    "\n",
    "    # 这里输出就是[batch, seq, h], h:[b,1,h]\n",
    "    def forward(self, x, hidden_prev):\n",
    "        out, hidden_prev = self.rnn(x, hidden_prev)\n",
    "        # [b, seq, h]\n",
    "        out = out.view(-1, hidden_size)  # 我们这里直接进行flattern操作\n",
    "        out = self.linear(out)  # 线性输出就是[seq,1], 也就输出了一个结果\n",
    "        out = out.unsqueeze(dim=0)  # 这里我们对y进行比较, 所以添加了一个维度, y的维度是[b,seq,1], 因为我们需要用MSE\n",
    "        return out, hidden_prev\n"
   ]
  },
  {
   "cell_type": "code",
   "execution_count": 16,
   "metadata": {},
   "outputs": [
    {
     "name": "stdout",
     "output_type": "stream",
     "text": [
      "Iteration: 0 loss 0.4079281687736511\n",
      "Iteration: 1000 loss 0.0012061619199812412\n",
      "Iteration: 2000 loss 0.0009604257065802813\n",
      "Iteration: 3000 loss 0.0005868563894182444\n",
      "Iteration: 4000 loss 9.899263386614621e-05\n",
      "Iteration: 5000 loss 0.0001778372679837048\n"
     ]
    }
   ],
   "source": [
    "# 这里我们需要用mse, 因为结果是线性结果\n",
    "model = Net()\n",
    "\n",
    "criterion = nn.MSELoss()\n",
    "optimizer = torch.optim.Adam(model.parameters(), lr)\n",
    "\n",
    "# 这里我们新建h0, [b, layer, hiddensize]\n",
    "hidden_prev = torch.zeros(1, 1, hidden_size)\n",
    "\n",
    "# 循环6000次\n",
    "for iter in range(6000):\n",
    "    # 随机生成xy\n",
    "    start = np.random.randint(3, size=1)[0]\n",
    "    time_steps = np.linspace(start, start + 10, num_time_steps)\n",
    "    data = np.sin(time_steps)\n",
    "    data = data.reshape(num_time_steps, 1)\n",
    "    x = torch.tensor(data[:-1]).float().view(1, num_time_steps - 1, 1)\n",
    "    y = torch.tensor(data[1:]).float().view(1, num_time_steps - 1, 1)\n",
    "\n",
    "    output, hidden_prev = model(x, hidden_prev)\n",
    "    hidden_prev = hidden_prev.detach()\n",
    "\n",
    "    # 计算mse\n",
    "    loss = criterion(output, y)\n",
    "    model.zero_grad()\n",
    "    loss.backward()\n",
    "    optimizer.step()\n",
    "\n",
    "    if iter % 1000 == 0:\n",
    "        print(\"Iteration: {} loss {}\".format(iter, loss.item()))\n"
   ]
  },
  {
   "cell_type": "code",
   "execution_count": 17,
   "metadata": {},
   "outputs": [
    {
     "data": {
      "image/png": "[encoded data removed]",
      "text/plain": [
       "<Figure size 432x288 with 1 Axes>"
      ]
     },
     "metadata": {
      "needs_background": "light"
     },
     "output_type": "display_data"
    }
   ],
   "source": [
    "from matplotlib import pyplot as plt\n",
    "\n",
    "# 进行预测\n",
    "\n",
    "# 这里进行预测\n",
    "predictions = []\n",
    "# 取第一个sequence\n",
    "input = x[:, 0, :]\n",
    "for _ in range(x.shape[1]):\n",
    "    # 然后将其拉伸成[b,seq,1]\n",
    "    input = input.view(1, 1, 1)\n",
    "    (pred, hidden_prev) = model(input, hidden_prev)\n",
    "    input = pred\n",
    "    predictions.append(pred.detach().numpy().ravel()[0])\n",
    "\n",
    "x = x.data.numpy().ravel()\n",
    "y = y.data.numpy()\n",
    "plt.scatter(time_steps[:-1], x.ravel(), s=90)\n",
    "plt.plot(time_steps[:-1], x.ravel())\n",
    "\n",
    "plt.scatter(time_steps[1:], predictions)\n",
    "plt.show()\n"
   ]
  },
  {
   "attachments": {},
   "cell_type": "markdown",
   "metadata": {},
   "source": [
    "在这里我们可以看到, 我们的input大小其实是1, 但是我们训练的时候要求input是49.\n",
    "\n",
    "其实pytorch是可以自行调整input的大小的. 只要满足broadcast的结构, 就可以进行修正"
   ]
  }
 ],
 "metadata": {
  "kernelspec": {
   "display_name": "pytorch",
   "language": "python",
   "name": "python3"
  },
  "language_info": {
   "codemirror_mode": {
    "name": "ipython",
    "version": 3
   },
   "file_extension": ".py",
   "mimetype": "text/x-python",
   "name": "python",
   "nbconvert_exporter": "python",
   "pygments_lexer": "ipython3",
   "version": "3.9.16"
  },
  "orig_nbformat": 4,
  "vscode": {
   "interpreter": {
    "hash": "4f5fd407444611a7de458766408d8f0b30a2f26501ee96cb5dac23e78b64d77c"
   }
  }
 },
 "nbformat": 4,
 "nbformat_minor": 2
}
