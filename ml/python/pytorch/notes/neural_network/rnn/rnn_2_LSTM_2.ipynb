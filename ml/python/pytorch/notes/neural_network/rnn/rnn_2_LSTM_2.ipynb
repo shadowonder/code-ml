{
 "cells": [
  {
   "attachments": {},
   "cell_type": "markdown",
   "metadata": {},
   "source": [
    "# LSTM"
   ]
  },
  {
   "cell_type": "code",
   "execution_count": 1,
   "metadata": {
    "pycharm": {
     "is_executing": false
    }
   },
   "outputs": [
    {
     "name": "stdout",
     "text": [
      "GPU: False\n",
      "GPU: False\n"
     ],
     "output_type": "stream"
    },
    {
     "data": {
      "text/plain": "<torch._C.Generator at 0x2c4018eeef0>"
     },
     "metadata": {},
     "output_type": "execute_result",
     "execution_count": 1
    }
   ],
   "source": [
    "import torch\n",
    "import torch.nn as nn\n",
    "from torchtext.datasets import IMDB\n",
    "\n",
    "print(\"GPU:\", torch.backends.mps.is_available())\n",
    "print(\"GPU:\", torch.cuda.is_available())\n",
    "device = torch.device(\"cpu\")\n",
    "torch.manual_seed(123)\n"
   ]
  },
  {
   "cell_type": "code",
   "execution_count": 2,
   "metadata": {
    "pycharm": {
     "name": "#%%\n",
     "is_executing": false
    }
   },
   "outputs": [],
   "source": [
    "# TEXT = data.Field(tokenize=\"spacy\")\n",
    "# LABEL = data.LabelField(dtype=torch.float)\n",
    "# train_data, test_data = IMDB.splits(TEXT, LABEL)\n",
    "# \n",
    "# print(\"len of train data:\", len(train_data))\n",
    "# print(\"len of test data:\", len(test_data))\n",
    "# \n",
    "# print(train_data.examples[15].text)\n",
    "# print(train_data.examples[15].label)\n",
    "# \n",
    "# # word2vec, glove\n",
    "# TEXT.build_vocab(train_data, max_size=10000, vectors=\"glove.6B.100d\")\n",
    "# LABEL.build_vocab(train_data)\n"
   ]
  },
  {
   "cell_type": "markdown",
   "source": [
    "需要注意的是, 在新版当中, tokenlizer的TEXT和FIELD已经移除了, 可以使用utils中的get_tokenizer和vacob包来进行分词处理. 而输出的结果label也变成了1和2. 原本的输出应该是pos,neg"
   ],
   "metadata": {
    "collapsed": false,
    "pycharm": {
     "name": "#%% md\n"
    }
   }
  },
  {
   "cell_type": "code",
   "execution_count": 4,
   "outputs": [
    {
     "traceback": [
      "\u001b[1;31m---------------------------------------------------------------------------\u001b[0m",
      "\u001b[1;31mTypeError\u001b[0m                                 Traceback (most recent call last)",
      "Input \u001b[1;32mIn [4]\u001b[0m, in \u001b[0;36m<cell line: 19>\u001b[1;34m()\u001b[0m\n\u001b[0;32m     17\u001b[0m \u001b[38;5;66;03m# 在新版当中我们使用Vocab包对数据进行编码, 获得所有的词汇量\u001b[39;00m\n\u001b[0;32m     18\u001b[0m train_vocab \u001b[38;5;241m=\u001b[39m get_vocab(train_data_iter)\n\u001b[1;32m---> 19\u001b[0m \u001b[38;5;28mprint\u001b[39m(\u001b[43mtrain_vocab\u001b[49m\u001b[43m[\u001b[49m\u001b[38;5;241;43m0\u001b[39;49m\u001b[43m]\u001b[49m)\n",
      "File \u001b[1;32mD:\\anaconda\\envs\\python39\\lib\\site-packages\\torchtext\\vocab\\vocab.py:65\u001b[0m, in \u001b[0;36mVocab.__getitem__\u001b[1;34m(self, token)\u001b[0m\n\u001b[0;32m     56\u001b[0m \u001b[38;5;129m@torch\u001b[39m\u001b[38;5;241m.\u001b[39mjit\u001b[38;5;241m.\u001b[39mexport\n\u001b[0;32m     57\u001b[0m \u001b[38;5;28;01mdef\u001b[39;00m \u001b[38;5;21m__getitem__\u001b[39m(\u001b[38;5;28mself\u001b[39m, token: \u001b[38;5;28mstr\u001b[39m) \u001b[38;5;241m-\u001b[39m\u001b[38;5;241m>\u001b[39m \u001b[38;5;28mint\u001b[39m:\n\u001b[0;32m     58\u001b[0m     \u001b[38;5;124mr\u001b[39m\u001b[38;5;124;03m\"\"\"\u001b[39;00m\n\u001b[0;32m     59\u001b[0m \u001b[38;5;124;03m    Args:\u001b[39;00m\n\u001b[0;32m     60\u001b[0m \u001b[38;5;124;03m        token: The token used to lookup the corresponding index.\u001b[39;00m\n\u001b[1;32m   (...)\u001b[0m\n\u001b[0;32m     63\u001b[0m \u001b[38;5;124;03m        The index corresponding to the associated token.\u001b[39;00m\n\u001b[0;32m     64\u001b[0m \u001b[38;5;124;03m    \"\"\"\u001b[39;00m\n\u001b[1;32m---> 65\u001b[0m     \u001b[38;5;28;01mreturn\u001b[39;00m \u001b[38;5;28;43mself\u001b[39;49m\u001b[38;5;241;43m.\u001b[39;49m\u001b[43mvocab\u001b[49m\u001b[43m[\u001b[49m\u001b[43mtoken\u001b[49m\u001b[43m]\u001b[49m\n",
      "\u001b[1;31mTypeError\u001b[0m: __getitem__(): incompatible function arguments. The following argument types are supported:\n    1. (self: torchtext._torchtext.Vocab, arg0: str) -> int\n\nInvoked with: <torchtext._torchtext.Vocab object at 0x000002C41757CF70>, 0"
     ],
     "ename": "TypeError",
     "evalue": "__getitem__(): incompatible function arguments. The following argument types are supported:\n    1. (self: torchtext._torchtext.Vocab, arg0: str) -> int\n\nInvoked with: <torchtext._torchtext.Vocab object at 0x000002C41757CF70>, 0",
     "output_type": "error"
    }
   ],
   "source": [
    "from torchtext.data.utils import get_tokenizer \n",
    "from torchtext.vocab import build_vocab_from_iterator \n",
    "\n",
    "train_data_iter, test_data_iter = IMDB(split=('train','test'))\n",
    "tokenizer = get_tokenizer(\"basic_english\")\n",
    "\n",
    "def yield_tokens(data_iter): \n",
    "    for _, text in data_iter: \n",
    "        yield tokenizer(text) \n",
    "\n",
    "def get_vocab(train_data_pipe): \n",
    "    vocab = build_vocab_from_iterator(yield_tokens(train_data_pipe), \n",
    "                                      specials=['<UNK>', '<PAD>']) \n",
    "    vocab.set_default_index(vocab['<UNK>']) \n",
    "    return vocab \n",
    "\n",
    "# 在新版当中我们使用Vocab包对数据进行编码, 获得所有的词汇量\n",
    "# build_vocab_from_iterator：根据给定的迭代器yield_tokens(train_iter)，来构造一个Vocab对象。具体的Vocab类的介绍Vocab类。\n",
    "# 得到一个库,就是将文本转为编码\n",
    "train_vocab = get_vocab(train_data_iter)"
   ],
   "metadata": {
    "collapsed": false,
    "pycharm": {
     "name": "#%%\n",
     "is_executing": false
    }
   }
  },
  {
   "cell_type": "code",
   "execution_count": 5,
   "outputs": [
    {
     "name": "stdout",
     "text": [
      "100684\n",
      "['i', 'have', 'a', 'apple']\n",
      "[13, 33, 6, 7316]\n"
     ],
     "output_type": "stream"
    }
   ],
   "source": [
    "print(len(train_vocab))\n",
    "sentence = \"i have a apple\"\n",
    "sentence_token = tokenizer(sentence)\n",
    "print(sentence_token)\n",
    "print(train_vocab(sentence_token))"
   ],
   "metadata": {
    "collapsed": false,
    "pycharm": {
     "name": "#%%\n",
     "is_executing": false
    }
   }
  },
  {
   "cell_type": "code",
   "execution_count": null,
   "outputs": [],
   "source": [],
   "metadata": {
    "collapsed": false,
    "pycharm": {
     "name": "#%%\n"
    }
   }
  }
 ],
 "metadata": {
  "kernelspec": {
   "display_name": "pytorch",
   "language": "python",
   "name": "python3"
  },
  "language_info": {
   "codemirror_mode": {
    "name": "ipython",
    "version": 3
   },
   "file_extension": ".py",
   "mimetype": "text/x-python",
   "name": "python",
   "nbconvert_exporter": "python",
   "pygments_lexer": "ipython3",
   "version": "3.9.16"
  },
  "orig_nbformat": 4,
  "vscode": {
   "interpreter": {
    "hash": "4f5fd407444611a7de458766408d8f0b30a2f26501ee96cb5dac23e78b64d77c"
   }
  },
  "pycharm": {
   "stem_cell": {
    "cell_type": "raw",
    "source": [],
    "metadata": {
     "collapsed": false
    }
   }
  }
 },
 "nbformat": 4,
 "nbformat_minor": 2
}