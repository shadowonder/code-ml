{
 "cells": [
  {
   "attachments": {},
   "cell_type": "markdown",
   "metadata": {},
   "source": [
    "# GAN\n",
    "\n"
   ]
  },
  {
   "cell_type": "markdown",
   "metadata": {},
   "source": [
    "GAN包含一个鉴别器和一个生成器. 当模型训练完毕, 我们会得到一个生成器和一个鉴别器. GAN主要用于图像生成技术, 是神经网络的一种.\n",
    "\n",
    "### 鉴别器:\n",
    "\n",
    "鉴别器的主要功能是用来鉴别图像的. 鉴别器的本质就是一个图像分类神经网络. 比如输出A或者B的概率. \n",
    "\n",
    "### 生成器:\n",
    "\n",
    "GAN的核心组件, 生成图片用来让鉴别器识别. 同样是一个神经网络. 为了生成一个目标图片让鉴别器来识别, 我们需要一组噪音向量. 然后我们将这组噪音vector和一些目标图片(也就是鉴别应当为真的图片)作为输入, 从生成器中传入. 然后生成器需要生成一个图片.\n",
    "\n",
    "![](./assets/34.png)"
   ]
  },
  {
   "cell_type": "markdown",
   "metadata": {},
   "source": [
    "### 二进制交叉熵 BCE (Binary Cross Entropy)\n",
    "\n",
    "主要用来训练GAN. 设计之初主要是用来给GAN用来计算cost的.\n"
   ]
  }
 ],
 "metadata": {
  "language_info": {
   "name": "python"
  },
  "orig_nbformat": 4
 },
 "nbformat": 4,
 "nbformat_minor": 2
}
